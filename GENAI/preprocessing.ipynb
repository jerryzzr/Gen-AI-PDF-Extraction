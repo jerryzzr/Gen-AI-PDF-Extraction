{
 "cells": [
  {
   "cell_type": "code",
   "execution_count": null,
   "metadata": {},
   "outputs": [],
   "source": [
    "pip install ipykernel\n",
    "pip install googletrans==4.0.0-rc1"
   ]
  },
  {
   "cell_type": "code",
   "execution_count": 2,
   "metadata": {},
   "outputs": [],
   "source": [
    "import os\n",
    "from tkinter import Tk, filedialog\n",
    "from tkinter.filedialog import askopenfilename\n",
    "import re"
   ]
  },
  {
   "cell_type": "code",
   "execution_count": null,
   "metadata": {},
   "outputs": [],
   "source": [
    "from googletrans import Translator\n",
    "# we use google tranlator api to translate those text to english first\n",
    "root = Tk()\n",
    "root.withdraw()\n",
    "# initialize the translator\n",
    "translator = Translator()\n",
    "# find the location of the folder that need translation\n",
    "folder_path = filedialog.askdirectory(title=\"select the folder that need translation\")\n",
    "if folder_path:\n",
    "    for filename in os.listdir(folder_path):\n",
    "        if filename.endswith('.txt'):\n",
    "            file_path = os.path.join(folder_path, filename)\n",
    "\n",
    "            with open(file_path, 'r', encoding='utf-8') as file:\n",
    "                text = file.read()\n",
    "                \n",
    "            sentences = text.split('.')\n",
    "            translated_text = \"\"\n",
    "            # translate each sentence\n",
    "            for sentence in sentences:\n",
    "                if sentence.strip():\n",
    "                    try:\n",
    "                        translated_sentence = translator.translate(sentence, dest='en').text\n",
    "                        translated_text += translated_sentence + \". \"\n",
    "                    except Exception as e:\n",
    "                        print(f\"Translation error for sentence: {sentence}\")\n",
    "                        print(e)\n",
    "                        translated_text += sentence + \". \"\n",
    "            out_path = filedialog.askdirectory(title=\"select the folder that you want to export the translated text\")\n",
    "            output_path = os.path.join(out_path, f'translated_{filename}')\n",
    "            with open(output_path, 'w', encoding='utf-8') as output_file:\n",
    "                output_file.write(translated_text)"
   ]
  },
  {
   "cell_type": "code",
   "execution_count": null,
   "metadata": {},
   "outputs": [
    {
     "name": "stdout",
     "output_type": "stream",
     "text": [
      "Cleaned text from translated_[OCR]_24000001_20241109_2332.txt done!\n",
      "Cleaned text from translated_[OCR]_24000002_20241109_2333.txt done!\n",
      "Cleaned text from translated_[OCR]_24000003_20241109_2333.txt done!\n",
      "Cleaned text from translated_[OCR]_24000004_20241109_2333.txt done!\n",
      "Cleaned text from translated_[OCR]_24000005_20241109_2333.txt done!\n",
      "Cleaned text from translated_[OCR]_24000006_20241109_2333.txt done!\n",
      "Cleaned text from translated_[OCR]_24000007_20241109_2333.txt done!\n",
      "Cleaned text from translated_[OCR]_24000008_20241109_2335.txt done!\n",
      "Cleaned text from translated_[OCR]_24000009_20241109_2335.txt done!\n",
      "Cleaned text from translated_[OCR]_24000010_20241109_2335.txt done!\n"
     ]
    }
   ],
   "source": [
    "import spacy\n",
    "# avoid scan and translation error, we use spacy to clean the text\n",
    "nlp = spacy.load(\"en_core_web_sm\")\n",
    "root = Tk()\n",
    "root.withdraw()\n",
    "def clean_text(text):\n",
    "    # remove unnecessary characters, fix spacing, and correct spelling\n",
    "    text = re.sub(r'[^a-zA-Z0-9\\s,.-]', '', text)\n",
    "    text = re.sub(r'\\s+', ' ', text)\n",
    "    text = text.strip()\n",
    "    return text\n",
    "# select input and output folder\n",
    "folder_input_path = filedialog.askdirectory(title=\"Select Folder for Input Text Files\")\n",
    "folder_output_path = filedialog.askdirectory(title=\"Select Folder for Output Cleaned Text Files\")\n",
    "if folder_input_path and folder_output_path:\n",
    "    for filename in os.listdir(folder_input_path):\n",
    "        if filename.endswith('.txt'):\n",
    "            file_path = os.path.join(folder_input_path, filename)\n",
    "            \n",
    "            with open(file_path, 'r', encoding='utf-8') as file:\n",
    "                text = file.read()\n",
    "            \n",
    "            # process the text using spaCy\n",
    "            doc = nlp(text)\n",
    "            processed_text = ''\n",
    "            for token in doc:\n",
    "                processed_text += token.text + ' '\n",
    "\n",
    "            # clean the processed text\n",
    "            cleaned_text = clean_text(processed_text)\n",
    "\n",
    "            # create the output file path and save it into folder cleaned\n",
    "            output_file_path = os.path.join(folder_output_path, f\"cleaned_{filename}\")\n",
    "\n",
    "            with open(output_file_path, 'w', encoding='utf-8') as output_file:\n",
    "                output_file.write(cleaned_text)\n",
    "\n",
    "            print(f\"Cleaned text from {filename} done!\")\n",
    "else:\n",
    "    print(\"No folder selected.\")"
   ]
  },
  {
   "cell_type": "code",
   "execution_count": 4,
   "metadata": {},
   "outputs": [
    {
     "name": "stdout",
     "output_type": "stream",
     "text": [
      "Note: you may need to restart the kernel to use updated packages.\n"
     ]
    }
   ],
   "source": [
    "pip freeze > requirementsprocessing.txt"
   ]
  }
 ],
 "metadata": {
  "kernelspec": {
   "display_name": "GenAi",
   "language": "python",
   "name": "python3"
  },
  "language_info": {
   "codemirror_mode": {
    "name": "ipython",
    "version": 3
   },
   "file_extension": ".py",
   "mimetype": "text/x-python",
   "name": "python",
   "nbconvert_exporter": "python",
   "pygments_lexer": "ipython3",
   "version": "3.10.15"
  }
 },
 "nbformat": 4,
 "nbformat_minor": 2
}
