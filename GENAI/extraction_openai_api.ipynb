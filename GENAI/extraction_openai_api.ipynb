{
 "cells": [
  {
   "cell_type": "code",
   "execution_count": 1,
   "metadata": {},
   "outputs": [
    {
     "name": "stdout",
     "output_type": "stream",
     "text": [
      "Requirement already satisfied: ipykernel in f:\\anaconda\\envs\\openai\\lib\\site-packages (6.29.5)\n",
      "Requirement already satisfied: comm>=0.1.1 in f:\\anaconda\\envs\\openai\\lib\\site-packages (from ipykernel) (0.2.2)\n",
      "Requirement already satisfied: debugpy>=1.6.5 in f:\\anaconda\\envs\\openai\\lib\\site-packages (from ipykernel) (1.8.8)\n",
      "Requirement already satisfied: ipython>=7.23.1 in f:\\anaconda\\envs\\openai\\lib\\site-packages (from ipykernel) (8.29.0)\n",
      "Requirement already satisfied: jupyter-client>=6.1.12 in f:\\anaconda\\envs\\openai\\lib\\site-packages (from ipykernel) (8.6.3)\n",
      "Requirement already satisfied: jupyter-core!=5.0.*,>=4.12 in f:\\anaconda\\envs\\openai\\lib\\site-packages (from ipykernel) (5.7.2)\n",
      "Requirement already satisfied: matplotlib-inline>=0.1 in f:\\anaconda\\envs\\openai\\lib\\site-packages (from ipykernel) (0.1.7)\n",
      "Requirement already satisfied: nest-asyncio in f:\\anaconda\\envs\\openai\\lib\\site-packages (from ipykernel) (1.6.0)\n",
      "Requirement already satisfied: packaging in f:\\anaconda\\envs\\openai\\lib\\site-packages (from ipykernel) (24.1)\n",
      "Requirement already satisfied: psutil in f:\\anaconda\\envs\\openai\\lib\\site-packages (from ipykernel) (6.1.0)\n",
      "Requirement already satisfied: pyzmq>=24 in f:\\anaconda\\envs\\openai\\lib\\site-packages (from ipykernel) (26.2.0)\n",
      "Requirement already satisfied: tornado>=6.1 in f:\\anaconda\\envs\\openai\\lib\\site-packages (from ipykernel) (6.4.1)\n",
      "Requirement already satisfied: traitlets>=5.4.0 in f:\\anaconda\\envs\\openai\\lib\\site-packages (from ipykernel) (5.14.3)\n",
      "Requirement already satisfied: decorator in f:\\anaconda\\envs\\openai\\lib\\site-packages (from ipython>=7.23.1->ipykernel) (5.1.1)\n",
      "Requirement already satisfied: jedi>=0.16 in f:\\anaconda\\envs\\openai\\lib\\site-packages (from ipython>=7.23.1->ipykernel) (0.19.1)\n",
      "Requirement already satisfied: prompt-toolkit<3.1.0,>=3.0.41 in f:\\anaconda\\envs\\openai\\lib\\site-packages (from ipython>=7.23.1->ipykernel) (3.0.48)\n",
      "Requirement already satisfied: pygments>=2.4.0 in f:\\anaconda\\envs\\openai\\lib\\site-packages (from ipython>=7.23.1->ipykernel) (2.18.0)\n",
      "Requirement already satisfied: stack-data in f:\\anaconda\\envs\\openai\\lib\\site-packages (from ipython>=7.23.1->ipykernel) (0.6.2)\n",
      "Requirement already satisfied: typing-extensions>=4.6 in f:\\anaconda\\envs\\openai\\lib\\site-packages (from ipython>=7.23.1->ipykernel) (4.12.2)\n",
      "Requirement already satisfied: colorama in f:\\anaconda\\envs\\openai\\lib\\site-packages (from ipython>=7.23.1->ipykernel) (0.4.6)\n",
      "Requirement already satisfied: python-dateutil>=2.8.2 in f:\\anaconda\\envs\\openai\\lib\\site-packages (from jupyter-client>=6.1.12->ipykernel) (2.9.0)\n",
      "Requirement already satisfied: platformdirs>=2.5 in f:\\anaconda\\envs\\openai\\lib\\site-packages (from jupyter-core!=5.0.*,>=4.12->ipykernel) (4.3.6)\n",
      "Requirement already satisfied: pywin32>=300 in f:\\anaconda\\envs\\openai\\lib\\site-packages (from jupyter-core!=5.0.*,>=4.12->ipykernel) (307)\n",
      "Requirement already satisfied: parso<0.9.0,>=0.8.3 in f:\\anaconda\\envs\\openai\\lib\\site-packages (from jedi>=0.16->ipython>=7.23.1->ipykernel) (0.8.4)\n",
      "Requirement already satisfied: wcwidth in f:\\anaconda\\envs\\openai\\lib\\site-packages (from prompt-toolkit<3.1.0,>=3.0.41->ipython>=7.23.1->ipykernel) (0.2.13)\n",
      "Requirement already satisfied: six>=1.5 in f:\\anaconda\\envs\\openai\\lib\\site-packages (from python-dateutil>=2.8.2->jupyter-client>=6.1.12->ipykernel) (1.16.0)\n",
      "Requirement already satisfied: executing>=1.2.0 in f:\\anaconda\\envs\\openai\\lib\\site-packages (from stack-data->ipython>=7.23.1->ipykernel) (2.1.0)\n",
      "Requirement already satisfied: asttokens>=2.1.0 in f:\\anaconda\\envs\\openai\\lib\\site-packages (from stack-data->ipython>=7.23.1->ipykernel) (2.4.1)\n",
      "Requirement already satisfied: pure-eval in f:\\anaconda\\envs\\openai\\lib\\site-packages (from stack-data->ipython>=7.23.1->ipykernel) (0.2.3)\n",
      "Note: you may need to restart the kernel to use updated packages.\n"
     ]
    }
   ],
   "source": [
    "pip install ipykernel"
   ]
  },
  {
   "cell_type": "code",
   "execution_count": 9,
   "metadata": {},
   "outputs": [
    {
     "name": "stdout",
     "output_type": "stream",
     "text": [
      "Collecting openai==1.24.0\n",
      "  Downloading openai-1.24.0-py3-none-any.whl.metadata (21 kB)\n",
      "Requirement already satisfied: anyio<5,>=3.5.0 in f:\\anaconda\\envs\\openai\\lib\\site-packages (from openai==1.24.0) (3.7.1)\n",
      "Requirement already satisfied: distro<2,>=1.7.0 in f:\\anaconda\\envs\\openai\\lib\\site-packages (from openai==1.24.0) (1.9.0)\n",
      "Requirement already satisfied: httpx<1,>=0.23.0 in f:\\anaconda\\envs\\openai\\lib\\site-packages (from openai==1.24.0) (0.27.2)\n",
      "Requirement already satisfied: pydantic<3,>=1.9.0 in f:\\anaconda\\envs\\openai\\lib\\site-packages (from openai==1.24.0) (1.10.19)\n",
      "Requirement already satisfied: sniffio in f:\\anaconda\\envs\\openai\\lib\\site-packages (from openai==1.24.0) (1.3.1)\n",
      "Requirement already satisfied: tqdm>4 in f:\\anaconda\\envs\\openai\\lib\\site-packages (from openai==1.24.0) (4.67.0)\n",
      "Requirement already satisfied: typing-extensions<5,>=4.7 in f:\\anaconda\\envs\\openai\\lib\\site-packages (from openai==1.24.0) (4.12.2)\n",
      "Requirement already satisfied: idna>=2.8 in f:\\anaconda\\envs\\openai\\lib\\site-packages (from anyio<5,>=3.5.0->openai==1.24.0) (3.10)\n",
      "Requirement already satisfied: certifi in f:\\anaconda\\envs\\openai\\lib\\site-packages (from httpx<1,>=0.23.0->openai==1.24.0) (2024.8.30)\n",
      "Requirement already satisfied: httpcore==1.* in f:\\anaconda\\envs\\openai\\lib\\site-packages (from httpx<1,>=0.23.0->openai==1.24.0) (1.0.6)\n",
      "Requirement already satisfied: h11<0.15,>=0.13 in f:\\anaconda\\envs\\openai\\lib\\site-packages (from httpcore==1.*->httpx<1,>=0.23.0->openai==1.24.0) (0.14.0)\n",
      "Requirement already satisfied: colorama in f:\\anaconda\\envs\\openai\\lib\\site-packages (from tqdm>4->openai==1.24.0) (0.4.6)\n",
      "Downloading openai-1.24.0-py3-none-any.whl (312 kB)\n",
      "Installing collected packages: openai\n",
      "  Attempting uninstall: openai\n",
      "    Found existing installation: openai 1.2.0\n",
      "    Uninstalling openai-1.2.0:\n",
      "      Successfully uninstalled openai-1.2.0\n",
      "Successfully installed openai-1.24.0\n",
      "Note: you may need to restart the kernel to use updated packages.\n"
     ]
    }
   ],
   "source": [
    "pip install openai==1.24.0"
   ]
  },
  {
   "cell_type": "code",
   "execution_count": 4,
   "metadata": {},
   "outputs": [],
   "source": [
    "import os\n",
    "from tkinter import Tk, filedialog\n",
    "from tkinter.filedialog import askopenfilename\n",
    "import json\n",
    "from openai import OpenAI\n",
    "import openai"
   ]
  },
  {
   "cell_type": "code",
   "execution_count": null,
   "metadata": {},
   "outputs": [],
   "source": [
    "openai.api_key =''\n",
    "# api.key already removed after task\n",
    "# create openai client to complete the task\n",
    "client = OpenAI(\n",
    "    api_key=openai.api_key\n",
    ")\n",
    "# create a function to extract information from the text\n",
    "def extract_information(text):\n",
    "    # edit our prompt to help the model understand the task\n",
    "    prompt = f\"\"\"Extract the following information from the text:\n",
    "    a. Company Name\n",
    "    b. Company Identifier - eg: normally after business number with 8 - 10 digits\n",
    "    c. Document Purpose - eg: i. Key terms about the purpose of the document\n",
    "    d. Additional Information: eg:Relevant fields regarding the purpose of the document, if the document covers the appointment of directors include all relevant information about the director appointments.  Position, effective date etc\n",
    "\n",
    "    Text:\n",
    "    {text}\n",
    "    \n",
    "    Answer in the json format:\n",
    "    a. Company Name: [Extracted Company Name]\n",
    "    b. Company Identifier: [Extracted Company Identifier]\n",
    "    c. Document Purpose: [Extracted Purpose]\n",
    "    d. Additional Information: [Extracted Additional Information]\n",
    "\n",
    "    Please use JSON format for your answer.\"\"\"\n",
    "\n",
    "    response = client.chat.completions.create(\n",
    "        model=\"gpt-4o-mini\", # model name can be replaced by different models (see different prices)\n",
    "        messages=[\n",
    "            {\"role\": \"system\", \"content\": \"You are a helpful text extraction assistant.\"},\n",
    "            {\"role\": \"user\", \"content\": prompt}\n",
    "        ]\n",
    "    )\n",
    "    response_content = response.choices[0].message.content\n",
    "    \n",
    "    # strip the surrounding text and parse the JSON\n",
    "    json_response = response_content.strip(\"```json\\n\").strip(\"```\")\n",
    "    extracted_info = json.loads(json_response)\n",
    "    \n",
    "    return extracted_info"
   ]
  },
  {
   "cell_type": "code",
   "execution_count": 6,
   "metadata": {},
   "outputs": [
    {
     "name": "stdout",
     "output_type": "stream",
     "text": [
      "Extracted information from cleaned_translated_[OCR]_24000001_20241109_2332.txt done!\n",
      "Extracted information from cleaned_translated_[OCR]_24000002_20241109_2333.txt done!\n",
      "Extracted information from cleaned_translated_[OCR]_24000003_20241109_2333.txt done!\n",
      "Extracted information from cleaned_translated_[OCR]_24000004_20241109_2333.txt done!\n",
      "Extracted information from cleaned_translated_[OCR]_24000005_20241109_2333.txt done!\n",
      "Extracted information from cleaned_translated_[OCR]_24000006_20241109_2333.txt done!\n",
      "Extracted information from cleaned_translated_[OCR]_24000007_20241109_2333.txt done!\n",
      "Extracted information from cleaned_translated_[OCR]_24000008_20241109_2335.txt done!\n",
      "Extracted information from cleaned_translated_[OCR]_24000009_20241109_2335.txt done!\n",
      "Extracted information from cleaned_translated_[OCR]_24000010_20241109_2335.txt done!\n"
     ]
    }
   ],
   "source": [
    "# we assume that we have multiple tasks in one folder and output in another folder\n",
    "root = Tk()\n",
    "root.withdraw()\n",
    "folder_input_path = filedialog.askdirectory(title=\"Select Folder for info extraction\")\n",
    "folder_output_path = filedialog.askdirectory(title=\"Select Folder to Save JSON File\")\n",
    "if folder_input_path and folder_output_path:\n",
    "    \n",
    "    for filename in os.listdir(folder_input_path):\n",
    "        if filename.endswith('.txt'):\n",
    "            file_path = os.path.join(folder_input_path, filename)\n",
    "            \n",
    "            with open(file_path, 'r', encoding='utf-8') as file:\n",
    "                text = file.read()\n",
    "            \n",
    "            # extract information from the response\n",
    "            extracted_info = extract_information(text)\n",
    "            json_file_path = os.path.join(folder_output_path, f\"{os.path.splitext(filename)[0]}_info_output.json\")\n",
    "\n",
    "            # save the extracted information to a JSON file\n",
    "            with open(json_file_path, 'w', encoding='utf-8') as json_file:\n",
    "                json.dump(extracted_info, json_file, indent=4)\n",
    "\n",
    "            print(f\"Extracted information from {filename} done!\")\n",
    "else:\n",
    "    print(\"No folder selected.\")"
   ]
  },
  {
   "cell_type": "code",
   "execution_count": 8,
   "metadata": {},
   "outputs": [
    {
     "name": "stdout",
     "output_type": "stream",
     "text": [
      "Note: you may need to restart the kernel to use updated packages.\n"
     ]
    }
   ],
   "source": [
    "pip freeze > requirements_openai.txt"
   ]
  }
 ],
 "metadata": {
  "kernelspec": {
   "display_name": "openai",
   "language": "python",
   "name": "python3"
  },
  "language_info": {
   "codemirror_mode": {
    "name": "ipython",
    "version": 3
   },
   "file_extension": ".py",
   "mimetype": "text/x-python",
   "name": "python",
   "nbconvert_exporter": "python",
   "pygments_lexer": "ipython3",
   "version": "3.11.10"
  }
 },
 "nbformat": 4,
 "nbformat_minor": 2
}
